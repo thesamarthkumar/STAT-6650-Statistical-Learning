{
  "nbformat": 4,
  "nbformat_minor": 0,
  "metadata": {
    "colab": {
      "provenance": []
    },
    "kernelspec": {
      "name": "python3",
      "display_name": "Python 3"
    },
    "language_info": {
      "name": "python"
    }
  },
  "cells": [
    {
      "cell_type": "markdown",
      "source": [
        "# Question 2: Model Assessment Strategies\n",
        "---\n",
        "Samarth Kumar"
      ],
      "metadata": {
        "id": "l2K3TXFmKeDk"
      }
    },
    {
      "cell_type": "markdown",
      "source": [
        "Import dependencies"
      ],
      "metadata": {
        "id": "au2mTz_VKghe"
      }
    },
    {
      "cell_type": "markdown",
      "source": [
        "Run the command below to access UCI ML Repository Data"
      ],
      "metadata": {
        "id": "msphaKuGKm2_"
      }
    },
    {
      "cell_type": "code",
      "source": [
        "%pip install ucimlrepo"
      ],
      "metadata": {
        "colab": {
          "base_uri": "https://localhost:8080/"
        },
        "id": "GqOnmFoJKqE6",
        "outputId": "48d9f209-3258-43b7-fa0f-dc93cfde9a74"
      },
      "execution_count": null,
      "outputs": [
        {
          "output_type": "stream",
          "name": "stdout",
          "text": [
            "Collecting ucimlrepo\n",
            "  Downloading ucimlrepo-0.0.7-py3-none-any.whl.metadata (5.5 kB)\n",
            "Requirement already satisfied: pandas>=1.0.0 in /usr/local/lib/python3.11/dist-packages (from ucimlrepo) (2.2.2)\n",
            "Requirement already satisfied: certifi>=2020.12.5 in /usr/local/lib/python3.11/dist-packages (from ucimlrepo) (2025.1.31)\n",
            "Requirement already satisfied: numpy>=1.23.2 in /usr/local/lib/python3.11/dist-packages (from pandas>=1.0.0->ucimlrepo) (1.26.4)\n",
            "Requirement already satisfied: python-dateutil>=2.8.2 in /usr/local/lib/python3.11/dist-packages (from pandas>=1.0.0->ucimlrepo) (2.8.2)\n",
            "Requirement already satisfied: pytz>=2020.1 in /usr/local/lib/python3.11/dist-packages (from pandas>=1.0.0->ucimlrepo) (2025.1)\n",
            "Requirement already satisfied: tzdata>=2022.7 in /usr/local/lib/python3.11/dist-packages (from pandas>=1.0.0->ucimlrepo) (2025.1)\n",
            "Requirement already satisfied: six>=1.5 in /usr/local/lib/python3.11/dist-packages (from python-dateutil>=2.8.2->pandas>=1.0.0->ucimlrepo) (1.17.0)\n",
            "Downloading ucimlrepo-0.0.7-py3-none-any.whl (8.0 kB)\n",
            "Installing collected packages: ucimlrepo\n",
            "Successfully installed ucimlrepo-0.0.7\n"
          ]
        }
      ]
    },
    {
      "cell_type": "code",
      "execution_count": null,
      "metadata": {
        "id": "eIwQF2MhKYEn"
      },
      "outputs": [],
      "source": [
        "import time\n",
        "import numpy as np\n",
        "import pandas as pd\n",
        "from IPython.display import display\n",
        "from ucimlrepo import fetch_ucirepo\n",
        "from sklearn.model_selection import KFold, train_test_split\n",
        "from sklearn.metrics import roc_auc_score\n",
        "from sklearn.tree import DecisionTreeClassifier"
      ]
    },
    {
      "cell_type": "code",
      "source": [
        "# Load the Wine Quality dataset from UCI ML Repository.\n",
        "wine_quality = fetch_ucirepo(id=186)\n",
        "X = wine_quality.data.features\n",
        "y = wine_quality.data.targets\n",
        "\n",
        "# xFeat is an n x d array.\n",
        "xFeat = X.to_numpy()\n",
        "\n",
        "# y is an n x 1 array.\n",
        "y = y.to_numpy().ravel()\n",
        "\n",
        "# Convert quality scores into binary classification.\n",
        "# Good Quality (1) when y is at least 6.\n",
        "# Bad Quality (0) when 0 < y <= 5.\n",
        "y = np.where(y >= 6, 1, 0)"
      ],
      "metadata": {
        "id": "_prHBW5SKuHz"
      },
      "execution_count": null,
      "outputs": []
    },
    {
      "cell_type": "markdown",
      "source": [
        "Initialize a DecisionTreeClassifier model from Scikit-learn"
      ],
      "metadata": {
        "id": "82BwPaiwKwM8"
      }
    },
    {
      "cell_type": "code",
      "source": [
        "model = DecisionTreeClassifier(max_depth = 10, min_samples_split = 5)"
      ],
      "metadata": {
        "id": "U_e5QIcjK0PT"
      },
      "execution_count": null,
      "outputs": []
    },
    {
      "cell_type": "markdown",
      "source": [
        "### (a) Holdout Method"
      ],
      "metadata": {
        "id": "zmlhkcfmK301"
      }
    },
    {
      "cell_type": "code",
      "source": [
        "def holdout(model, xFeat, y, testSize):\n",
        "    start = time.time()\n",
        "    xTrain, xTest, yTrain, yTest = train_test_split(xFeat, y, test_size=testSize)\n",
        "    model.fit(xTrain, yTrain)\n",
        "    trainAuc = roc_auc_score(yTrain, model.predict_proba(xTrain)[:, -1])\n",
        "    testAuc = roc_auc_score(yTest, model.predict_proba(xTest)[:, -1])\n",
        "    timeElapsed = time.time() - start\n",
        "    return trainAuc, testAuc, timeElapsed"
      ],
      "metadata": {
        "id": "VqjlczpBK2DV"
      },
      "execution_count": null,
      "outputs": []
    },
    {
      "cell_type": "markdown",
      "source": [
        "### (b) K-Fold Cross-Validation"
      ],
      "metadata": {
        "id": "OrvsZ9dqK7Hy"
      }
    },
    {
      "cell_type": "code",
      "source": [
        "def kfold(model, xFeat, y, k):\n",
        "    trainSum, testSum = 0.0, 0.0\n",
        "    start = time.time()\n",
        "    kf = KFold(n_splits=k, shuffle=True)\n",
        "    for train_index, test_index in kf.split(xFeat):\n",
        "        xTrain, xTest = xFeat[train_index], xFeat[test_index]\n",
        "        yTrain, yTest = y[train_index], y[test_index]\n",
        "        model.fit(xTrain, yTrain)\n",
        "        trainAuc = roc_auc_score(yTrain, model.predict_proba(xTrain)[:,-1])\n",
        "        testAuc = roc_auc_score(yTest, model.predict_proba(xTest)[:,-1])\n",
        "        trainSum += trainAuc\n",
        "        testSum += testAuc\n",
        "    timeElapsed = time.time() - start\n",
        "    return trainSum/k, testSum/k, timeElapsed"
      ],
      "metadata": {
        "id": "MYfHo6JDK8Yx"
      },
      "execution_count": null,
      "outputs": []
    },
    {
      "cell_type": "markdown",
      "source": [
        "### (c) Monte Carlo Cross-Validation"
      ],
      "metadata": {
        "id": "naBpqLBPK_EY"
      }
    },
    {
      "cell_type": "code",
      "source": [
        "def monte_carlo(model, xFeat, y, testSize, s):\n",
        "    trainSum, testSum = 0.0, 0.0\n",
        "    start = time.time()\n",
        "    for i in range(s):\n",
        "        state = np.random.randint(0,10000)\n",
        "        xTrain, xTest, yTrain, yTest = train_test_split(xFeat, y, test_size=testSize, random_state=state)\n",
        "        model.fit(xTrain, yTrain)\n",
        "        trainSum += roc_auc_score(yTrain, model.predict_proba(xTrain)[:, -1])\n",
        "        testSum += roc_auc_score(yTest, model.predict_proba(xTest)[:, -1])\n",
        "    timeElapsed = time.time() - start\n",
        "    return trainSum/s, testSum/s, timeElapsed"
      ],
      "metadata": {
        "id": "hcH61FQhLABE"
      },
      "execution_count": null,
      "outputs": []
    },
    {
      "cell_type": "markdown",
      "source": [
        "### (d) Table of the AUC and time for each model selection technique."
      ],
      "metadata": {
        "id": "42y-FYznLC5T"
      }
    },
    {
      "cell_type": "code",
      "source": [
        "table = pd.DataFrame(columns=['trainAuc', 'testAuc', 'timeElapsed'])\n",
        "table.loc['Holdout'] = holdout(model, xFeat, y, 0.3)\n",
        "table.loc['K-Fold'] = kfold(model, xFeat, y, 10)\n",
        "table.loc['Monte Carlo'] = monte_carlo(model, xFeat, y, 0.3, 40)\n",
        "print('Results for each model assessment strategy:')\n",
        "display(table)\n"
      ],
      "metadata": {
        "colab": {
          "base_uri": "https://localhost:8080/",
          "height": 161
        },
        "id": "BESk77-OLEDx",
        "outputId": "719e4343-222f-451e-f7f4-bce05e16b29b"
      },
      "execution_count": null,
      "outputs": [
        {
          "output_type": "stream",
          "name": "stdout",
          "text": [
            "Results for each model assessment strategy:\n"
          ]
        },
        {
          "output_type": "display_data",
          "data": {
            "text/plain": [
              "             trainAuc   testAuc  timeElapsed\n",
              "Holdout      0.943394  0.763922     0.162040\n",
              "K-Fold       0.946634  0.787010     1.321869\n",
              "Monte Carlo  0.950889  0.770126     4.124124"
            ],
            "text/html": [
              "\n",
              "  <div id=\"df-45c65b1e-3b24-4176-ba52-1f80e8a0c494\" class=\"colab-df-container\">\n",
              "    <div>\n",
              "<style scoped>\n",
              "    .dataframe tbody tr th:only-of-type {\n",
              "        vertical-align: middle;\n",
              "    }\n",
              "\n",
              "    .dataframe tbody tr th {\n",
              "        vertical-align: top;\n",
              "    }\n",
              "\n",
              "    .dataframe thead th {\n",
              "        text-align: right;\n",
              "    }\n",
              "</style>\n",
              "<table border=\"1\" class=\"dataframe\">\n",
              "  <thead>\n",
              "    <tr style=\"text-align: right;\">\n",
              "      <th></th>\n",
              "      <th>trainAuc</th>\n",
              "      <th>testAuc</th>\n",
              "      <th>timeElapsed</th>\n",
              "    </tr>\n",
              "  </thead>\n",
              "  <tbody>\n",
              "    <tr>\n",
              "      <th>Holdout</th>\n",
              "      <td>0.943394</td>\n",
              "      <td>0.763922</td>\n",
              "      <td>0.162040</td>\n",
              "    </tr>\n",
              "    <tr>\n",
              "      <th>K-Fold</th>\n",
              "      <td>0.946634</td>\n",
              "      <td>0.787010</td>\n",
              "      <td>1.321869</td>\n",
              "    </tr>\n",
              "    <tr>\n",
              "      <th>Monte Carlo</th>\n",
              "      <td>0.950889</td>\n",
              "      <td>0.770126</td>\n",
              "      <td>4.124124</td>\n",
              "    </tr>\n",
              "  </tbody>\n",
              "</table>\n",
              "</div>\n",
              "    <div class=\"colab-df-buttons\">\n",
              "\n",
              "  <div class=\"colab-df-container\">\n",
              "    <button class=\"colab-df-convert\" onclick=\"convertToInteractive('df-45c65b1e-3b24-4176-ba52-1f80e8a0c494')\"\n",
              "            title=\"Convert this dataframe to an interactive table.\"\n",
              "            style=\"display:none;\">\n",
              "\n",
              "  <svg xmlns=\"http://www.w3.org/2000/svg\" height=\"24px\" viewBox=\"0 -960 960 960\">\n",
              "    <path d=\"M120-120v-720h720v720H120Zm60-500h600v-160H180v160Zm220 220h160v-160H400v160Zm0 220h160v-160H400v160ZM180-400h160v-160H180v160Zm440 0h160v-160H620v160ZM180-180h160v-160H180v160Zm440 0h160v-160H620v160Z\"/>\n",
              "  </svg>\n",
              "    </button>\n",
              "\n",
              "  <style>\n",
              "    .colab-df-container {\n",
              "      display:flex;\n",
              "      gap: 12px;\n",
              "    }\n",
              "\n",
              "    .colab-df-convert {\n",
              "      background-color: #E8F0FE;\n",
              "      border: none;\n",
              "      border-radius: 50%;\n",
              "      cursor: pointer;\n",
              "      display: none;\n",
              "      fill: #1967D2;\n",
              "      height: 32px;\n",
              "      padding: 0 0 0 0;\n",
              "      width: 32px;\n",
              "    }\n",
              "\n",
              "    .colab-df-convert:hover {\n",
              "      background-color: #E2EBFA;\n",
              "      box-shadow: 0px 1px 2px rgba(60, 64, 67, 0.3), 0px 1px 3px 1px rgba(60, 64, 67, 0.15);\n",
              "      fill: #174EA6;\n",
              "    }\n",
              "\n",
              "    .colab-df-buttons div {\n",
              "      margin-bottom: 4px;\n",
              "    }\n",
              "\n",
              "    [theme=dark] .colab-df-convert {\n",
              "      background-color: #3B4455;\n",
              "      fill: #D2E3FC;\n",
              "    }\n",
              "\n",
              "    [theme=dark] .colab-df-convert:hover {\n",
              "      background-color: #434B5C;\n",
              "      box-shadow: 0px 1px 3px 1px rgba(0, 0, 0, 0.15);\n",
              "      filter: drop-shadow(0px 1px 2px rgba(0, 0, 0, 0.3));\n",
              "      fill: #FFFFFF;\n",
              "    }\n",
              "  </style>\n",
              "\n",
              "    <script>\n",
              "      const buttonEl =\n",
              "        document.querySelector('#df-45c65b1e-3b24-4176-ba52-1f80e8a0c494 button.colab-df-convert');\n",
              "      buttonEl.style.display =\n",
              "        google.colab.kernel.accessAllowed ? 'block' : 'none';\n",
              "\n",
              "      async function convertToInteractive(key) {\n",
              "        const element = document.querySelector('#df-45c65b1e-3b24-4176-ba52-1f80e8a0c494');\n",
              "        const dataTable =\n",
              "          await google.colab.kernel.invokeFunction('convertToInteractive',\n",
              "                                                    [key], {});\n",
              "        if (!dataTable) return;\n",
              "\n",
              "        const docLinkHtml = 'Like what you see? Visit the ' +\n",
              "          '<a target=\"_blank\" href=https://colab.research.google.com/notebooks/data_table.ipynb>data table notebook</a>'\n",
              "          + ' to learn more about interactive tables.';\n",
              "        element.innerHTML = '';\n",
              "        dataTable['output_type'] = 'display_data';\n",
              "        await google.colab.output.renderOutput(dataTable, element);\n",
              "        const docLink = document.createElement('div');\n",
              "        docLink.innerHTML = docLinkHtml;\n",
              "        element.appendChild(docLink);\n",
              "      }\n",
              "    </script>\n",
              "  </div>\n",
              "\n",
              "\n",
              "<div id=\"df-bfafb2e7-af56-4313-a098-483f7d0b1001\">\n",
              "  <button class=\"colab-df-quickchart\" onclick=\"quickchart('df-bfafb2e7-af56-4313-a098-483f7d0b1001')\"\n",
              "            title=\"Suggest charts\"\n",
              "            style=\"display:none;\">\n",
              "\n",
              "<svg xmlns=\"http://www.w3.org/2000/svg\" height=\"24px\"viewBox=\"0 0 24 24\"\n",
              "     width=\"24px\">\n",
              "    <g>\n",
              "        <path d=\"M19 3H5c-1.1 0-2 .9-2 2v14c0 1.1.9 2 2 2h14c1.1 0 2-.9 2-2V5c0-1.1-.9-2-2-2zM9 17H7v-7h2v7zm4 0h-2V7h2v10zm4 0h-2v-4h2v4z\"/>\n",
              "    </g>\n",
              "</svg>\n",
              "  </button>\n",
              "\n",
              "<style>\n",
              "  .colab-df-quickchart {\n",
              "      --bg-color: #E8F0FE;\n",
              "      --fill-color: #1967D2;\n",
              "      --hover-bg-color: #E2EBFA;\n",
              "      --hover-fill-color: #174EA6;\n",
              "      --disabled-fill-color: #AAA;\n",
              "      --disabled-bg-color: #DDD;\n",
              "  }\n",
              "\n",
              "  [theme=dark] .colab-df-quickchart {\n",
              "      --bg-color: #3B4455;\n",
              "      --fill-color: #D2E3FC;\n",
              "      --hover-bg-color: #434B5C;\n",
              "      --hover-fill-color: #FFFFFF;\n",
              "      --disabled-bg-color: #3B4455;\n",
              "      --disabled-fill-color: #666;\n",
              "  }\n",
              "\n",
              "  .colab-df-quickchart {\n",
              "    background-color: var(--bg-color);\n",
              "    border: none;\n",
              "    border-radius: 50%;\n",
              "    cursor: pointer;\n",
              "    display: none;\n",
              "    fill: var(--fill-color);\n",
              "    height: 32px;\n",
              "    padding: 0;\n",
              "    width: 32px;\n",
              "  }\n",
              "\n",
              "  .colab-df-quickchart:hover {\n",
              "    background-color: var(--hover-bg-color);\n",
              "    box-shadow: 0 1px 2px rgba(60, 64, 67, 0.3), 0 1px 3px 1px rgba(60, 64, 67, 0.15);\n",
              "    fill: var(--button-hover-fill-color);\n",
              "  }\n",
              "\n",
              "  .colab-df-quickchart-complete:disabled,\n",
              "  .colab-df-quickchart-complete:disabled:hover {\n",
              "    background-color: var(--disabled-bg-color);\n",
              "    fill: var(--disabled-fill-color);\n",
              "    box-shadow: none;\n",
              "  }\n",
              "\n",
              "  .colab-df-spinner {\n",
              "    border: 2px solid var(--fill-color);\n",
              "    border-color: transparent;\n",
              "    border-bottom-color: var(--fill-color);\n",
              "    animation:\n",
              "      spin 1s steps(1) infinite;\n",
              "  }\n",
              "\n",
              "  @keyframes spin {\n",
              "    0% {\n",
              "      border-color: transparent;\n",
              "      border-bottom-color: var(--fill-color);\n",
              "      border-left-color: var(--fill-color);\n",
              "    }\n",
              "    20% {\n",
              "      border-color: transparent;\n",
              "      border-left-color: var(--fill-color);\n",
              "      border-top-color: var(--fill-color);\n",
              "    }\n",
              "    30% {\n",
              "      border-color: transparent;\n",
              "      border-left-color: var(--fill-color);\n",
              "      border-top-color: var(--fill-color);\n",
              "      border-right-color: var(--fill-color);\n",
              "    }\n",
              "    40% {\n",
              "      border-color: transparent;\n",
              "      border-right-color: var(--fill-color);\n",
              "      border-top-color: var(--fill-color);\n",
              "    }\n",
              "    60% {\n",
              "      border-color: transparent;\n",
              "      border-right-color: var(--fill-color);\n",
              "    }\n",
              "    80% {\n",
              "      border-color: transparent;\n",
              "      border-right-color: var(--fill-color);\n",
              "      border-bottom-color: var(--fill-color);\n",
              "    }\n",
              "    90% {\n",
              "      border-color: transparent;\n",
              "      border-bottom-color: var(--fill-color);\n",
              "    }\n",
              "  }\n",
              "</style>\n",
              "\n",
              "  <script>\n",
              "    async function quickchart(key) {\n",
              "      const quickchartButtonEl =\n",
              "        document.querySelector('#' + key + ' button');\n",
              "      quickchartButtonEl.disabled = true;  // To prevent multiple clicks.\n",
              "      quickchartButtonEl.classList.add('colab-df-spinner');\n",
              "      try {\n",
              "        const charts = await google.colab.kernel.invokeFunction(\n",
              "            'suggestCharts', [key], {});\n",
              "      } catch (error) {\n",
              "        console.error('Error during call to suggestCharts:', error);\n",
              "      }\n",
              "      quickchartButtonEl.classList.remove('colab-df-spinner');\n",
              "      quickchartButtonEl.classList.add('colab-df-quickchart-complete');\n",
              "    }\n",
              "    (() => {\n",
              "      let quickchartButtonEl =\n",
              "        document.querySelector('#df-bfafb2e7-af56-4313-a098-483f7d0b1001 button');\n",
              "      quickchartButtonEl.style.display =\n",
              "        google.colab.kernel.accessAllowed ? 'block' : 'none';\n",
              "    })();\n",
              "  </script>\n",
              "</div>\n",
              "\n",
              "  <div id=\"id_6b3a08e1-0aca-404b-9c91-b9eca424666d\">\n",
              "    <style>\n",
              "      .colab-df-generate {\n",
              "        background-color: #E8F0FE;\n",
              "        border: none;\n",
              "        border-radius: 50%;\n",
              "        cursor: pointer;\n",
              "        display: none;\n",
              "        fill: #1967D2;\n",
              "        height: 32px;\n",
              "        padding: 0 0 0 0;\n",
              "        width: 32px;\n",
              "      }\n",
              "\n",
              "      .colab-df-generate:hover {\n",
              "        background-color: #E2EBFA;\n",
              "        box-shadow: 0px 1px 2px rgba(60, 64, 67, 0.3), 0px 1px 3px 1px rgba(60, 64, 67, 0.15);\n",
              "        fill: #174EA6;\n",
              "      }\n",
              "\n",
              "      [theme=dark] .colab-df-generate {\n",
              "        background-color: #3B4455;\n",
              "        fill: #D2E3FC;\n",
              "      }\n",
              "\n",
              "      [theme=dark] .colab-df-generate:hover {\n",
              "        background-color: #434B5C;\n",
              "        box-shadow: 0px 1px 3px 1px rgba(0, 0, 0, 0.15);\n",
              "        filter: drop-shadow(0px 1px 2px rgba(0, 0, 0, 0.3));\n",
              "        fill: #FFFFFF;\n",
              "      }\n",
              "    </style>\n",
              "    <button class=\"colab-df-generate\" onclick=\"generateWithVariable('table')\"\n",
              "            title=\"Generate code using this dataframe.\"\n",
              "            style=\"display:none;\">\n",
              "\n",
              "  <svg xmlns=\"http://www.w3.org/2000/svg\" height=\"24px\"viewBox=\"0 0 24 24\"\n",
              "       width=\"24px\">\n",
              "    <path d=\"M7,19H8.4L18.45,9,17,7.55,7,17.6ZM5,21V16.75L18.45,3.32a2,2,0,0,1,2.83,0l1.4,1.43a1.91,1.91,0,0,1,.58,1.4,1.91,1.91,0,0,1-.58,1.4L9.25,21ZM18.45,9,17,7.55Zm-12,3A5.31,5.31,0,0,0,4.9,8.1,5.31,5.31,0,0,0,1,6.5,5.31,5.31,0,0,0,4.9,4.9,5.31,5.31,0,0,0,6.5,1,5.31,5.31,0,0,0,8.1,4.9,5.31,5.31,0,0,0,12,6.5,5.46,5.46,0,0,0,6.5,12Z\"/>\n",
              "  </svg>\n",
              "    </button>\n",
              "    <script>\n",
              "      (() => {\n",
              "      const buttonEl =\n",
              "        document.querySelector('#id_6b3a08e1-0aca-404b-9c91-b9eca424666d button.colab-df-generate');\n",
              "      buttonEl.style.display =\n",
              "        google.colab.kernel.accessAllowed ? 'block' : 'none';\n",
              "\n",
              "      buttonEl.onclick = () => {\n",
              "        google.colab.notebook.generateWithVariable('table');\n",
              "      }\n",
              "      })();\n",
              "    </script>\n",
              "  </div>\n",
              "\n",
              "    </div>\n",
              "  </div>\n"
            ],
            "application/vnd.google.colaboratory.intrinsic+json": {
              "type": "dataframe",
              "variable_name": "table",
              "summary": "{\n  \"name\": \"table\",\n  \"rows\": 3,\n  \"fields\": [\n    {\n      \"column\": \"trainAuc\",\n      \"properties\": {\n        \"dtype\": \"number\",\n        \"std\": 0.003758851504758418,\n        \"min\": 0.9433944361145244,\n        \"max\": 0.9508892199761846,\n        \"num_unique_values\": 3,\n        \"samples\": [\n          0.9433944361145244,\n          0.9466338368498374,\n          0.9508892199761846\n        ],\n        \"semantic_type\": \"\",\n        \"description\": \"\"\n      }\n    },\n    {\n      \"column\": \"testAuc\",\n      \"properties\": {\n        \"dtype\": \"number\",\n        \"std\": 0.011948385144433001,\n        \"min\": 0.763922086281712,\n        \"max\": 0.7870096277055272,\n        \"num_unique_values\": 3,\n        \"samples\": [\n          0.763922086281712,\n          0.7870096277055272,\n          0.7701258386479737\n        ],\n        \"semantic_type\": \"\",\n        \"description\": \"\"\n      }\n    },\n    {\n      \"column\": \"timeElapsed\",\n      \"properties\": {\n        \"dtype\": \"number\",\n        \"std\": 2.0369891483950298,\n        \"min\": 0.16203951835632324,\n        \"max\": 4.124123811721802,\n        \"num_unique_values\": 3,\n        \"samples\": [\n          0.16203951835632324,\n          1.321868896484375,\n          4.124123811721802\n        ],\n        \"semantic_type\": \"\",\n        \"description\": \"\"\n      }\n    }\n  ]\n}"
            }
          },
          "metadata": {}
        }
      ]
    },
    {
      "cell_type": "markdown",
      "source": [
        "From the table above, using the K-Fold Cross-Validation technique yielded the highest average AUC of 0.787 on the test data, outperforming Holdout and Monte Carlo methods.\n",
        "Because Holdout only uses one split, there can be higher variance in the results. K-Fold CV and Monte Carlo can be more robust, if enough splits are made. K-Fold Cross-Validation uses multiple splits, therefore it will likely allow the model to be more accurate and have a better AUC than the Holdout method. Monte Carlo uses repeated random splits and it depends more on the number of iterations, s. If too few iterations are used then the variance will not decrease enough.\n",
        "The Holdout technique took the least amount of time (0.16 seconds) while Monte Carlo took the longest (4.12 seconds), indicating K-Fold CV compromised a little bit on time in order to maximize the AUC. K-Fold CV (1.32 seconds) was still significantly faster than Monte Carlo. The Monte Carlo method was the slowest, likely because it involved repeated random splitting of the data and also retraining the model multiple times. The K-Fold method only trained and evaluated the model for the set number of times, k. Holdout trains and evaluates the model only once, therefore being the fastest, even if it doesn't prioritize yielding the best AUC."
      ],
      "metadata": {
        "id": "3IznKNjFLXuV"
      }
    }
  ]
}