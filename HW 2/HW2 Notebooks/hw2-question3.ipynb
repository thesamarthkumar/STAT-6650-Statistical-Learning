{
  "nbformat": 4,
  "nbformat_minor": 0,
  "metadata": {
    "colab": {
      "provenance": []
    },
    "kernelspec": {
      "name": "python3",
      "display_name": "Python 3"
    },
    "language_info": {
      "name": "python"
    }
  },
  "cells": [
    {
      "cell_type": "markdown",
      "source": [
        "# Question 3: Robustness of Decision Trees and KNN\n",
        "---\n",
        "Samarth Kumar"
      ],
      "metadata": {
        "id": "x9hhzsnUL1Aw"
      }
    },
    {
      "cell_type": "markdown",
      "source": [
        "Run this command if the ucimlrepo library isn't installed. It's required to directly load the dataset in python"
      ],
      "metadata": {
        "id": "2mBQy8ToL4V-"
      }
    },
    {
      "cell_type": "code",
      "source": [
        "%pip install ucimlrepo"
      ],
      "metadata": {
        "colab": {
          "base_uri": "https://localhost:8080/"
        },
        "id": "FTqE42gFL-sN",
        "outputId": "2889d77f-44c5-4113-9a8e-c2cdbab4e052"
      },
      "execution_count": null,
      "outputs": [
        {
          "output_type": "stream",
          "name": "stdout",
          "text": [
            "Collecting ucimlrepo\n",
            "  Downloading ucimlrepo-0.0.7-py3-none-any.whl.metadata (5.5 kB)\n",
            "Requirement already satisfied: pandas>=1.0.0 in /usr/local/lib/python3.11/dist-packages (from ucimlrepo) (2.2.2)\n",
            "Requirement already satisfied: certifi>=2020.12.5 in /usr/local/lib/python3.11/dist-packages (from ucimlrepo) (2025.1.31)\n",
            "Requirement already satisfied: numpy>=1.23.2 in /usr/local/lib/python3.11/dist-packages (from pandas>=1.0.0->ucimlrepo) (1.26.4)\n",
            "Requirement already satisfied: python-dateutil>=2.8.2 in /usr/local/lib/python3.11/dist-packages (from pandas>=1.0.0->ucimlrepo) (2.8.2)\n",
            "Requirement already satisfied: pytz>=2020.1 in /usr/local/lib/python3.11/dist-packages (from pandas>=1.0.0->ucimlrepo) (2025.1)\n",
            "Requirement already satisfied: tzdata>=2022.7 in /usr/local/lib/python3.11/dist-packages (from pandas>=1.0.0->ucimlrepo) (2025.1)\n",
            "Requirement already satisfied: six>=1.5 in /usr/local/lib/python3.11/dist-packages (from python-dateutil>=2.8.2->pandas>=1.0.0->ucimlrepo) (1.17.0)\n",
            "Downloading ucimlrepo-0.0.7-py3-none-any.whl (8.0 kB)\n",
            "Installing collected packages: ucimlrepo\n",
            "Successfully installed ucimlrepo-0.0.7\n"
          ]
        }
      ]
    },
    {
      "cell_type": "markdown",
      "source": [
        "Import dependencies"
      ],
      "metadata": {
        "id": "0jb_TJwwMACw"
      }
    },
    {
      "cell_type": "code",
      "execution_count": null,
      "metadata": {
        "id": "pmpIjHQWLutX"
      },
      "outputs": [],
      "source": [
        "import numpy as np\n",
        "import pandas as pd\n",
        "from IPython.display import display\n",
        "from ucimlrepo import fetch_ucirepo\n",
        "from sklearn.model_selection import KFold, train_test_split\n",
        "from sklearn.metrics import roc_auc_score\n",
        "from sklearn.tree import DecisionTreeClassifier\n",
        "from sklearn.neighbors import KNeighborsClassifier"
      ]
    },
    {
      "cell_type": "markdown",
      "source": [
        "Load the dataset"
      ],
      "metadata": {
        "id": "xuxAB74eMHr7"
      }
    },
    {
      "cell_type": "code",
      "source": [
        "wine_quality = fetch_ucirepo(id=186)\n",
        "X = wine_quality.data.features\n",
        "y = wine_quality.data.targets\n",
        "xFeat = X.to_numpy()\n",
        "y = y.to_numpy().ravel()\n",
        "y = np.where(y >= 6, 1, 0)"
      ],
      "metadata": {
        "id": "2hL3SSirMI0P"
      },
      "execution_count": null,
      "outputs": []
    },
    {
      "cell_type": "markdown",
      "source": [
        "Initialize the Decision Tree and KNN Models"
      ],
      "metadata": {
        "id": "Xg81fEXlMK1S"
      }
    },
    {
      "cell_type": "code",
      "source": [
        "dtModel = DecisionTreeClassifier()\n",
        "knnModel = KNeighborsClassifier()"
      ],
      "metadata": {
        "id": "yEcOOETMMNI8"
      },
      "execution_count": null,
      "outputs": []
    },
    {
      "cell_type": "markdown",
      "source": [
        "### (a) Optimal Parameters for KNN and Decision Tree\n"
      ],
      "metadata": {
        "id": "7XoXHTjCMOv9"
      }
    },
    {
      "cell_type": "markdown",
      "source": [
        "#### KNN"
      ],
      "metadata": {
        "id": "XGnqhktDMQSA"
      }
    },
    {
      "cell_type": "code",
      "source": [
        "# Testing various numumbers of neighbors.\n",
        "neighbors = [5, 10, 15, 20]\n",
        "knnParameters = 0\n",
        "knnAuc = 0.0\n",
        "\n",
        "# Iterate for each value in neighbors array.\n",
        "for k in neighbors:\n",
        "    # Initialize the model with current neighbors, n. Initialize train/test AUC.\n",
        "    model = KNeighborsClassifier(n_neighbors=k)\n",
        "    trainSum, testSum = 0.0, 0.0\n",
        "\n",
        "    # Split the data, using 5-fold cross-validation.\n",
        "    kf = KFold(n_splits=5, shuffle=True)\n",
        "    for train_index, test_index in kf.split(xFeat):\n",
        "        # Initialize train/test data and train the model.\n",
        "        xTrain, xTest = xFeat[train_index], xFeat[test_index]\n",
        "        yTrain, yTest = y[train_index], y[test_index]\n",
        "        model.fit(xTrain, yTrain)\n",
        "\n",
        "        # Sum AUC for train/test data.\n",
        "        trainSum += roc_auc_score(yTrain, model.predict_proba(xTrain)[:, -1])\n",
        "        testSum += roc_auc_score(yTest, model.predict_proba(xTest)[:, -1])\n",
        "\n",
        "    # Average the AUC for train/test across the 5 folds.\n",
        "    trainAuc = trainSum / 5\n",
        "    testAuc = testSum / 5\n",
        "\n",
        "    # Update the best parameters when test AUC is better than the current.\n",
        "    if testAuc > knnAuc:\n",
        "        knnAuc = testAuc\n",
        "        knnParameters = k"
      ],
      "metadata": {
        "id": "FXNxkqLkMR2O"
      },
      "execution_count": null,
      "outputs": []
    },
    {
      "cell_type": "markdown",
      "source": [
        "#### Decision Tree"
      ],
      "metadata": {
        "id": "Z2q-N0xcMT4I"
      }
    },
    {
      "cell_type": "code",
      "source": [
        "# Testing various max depths and minimum samples split.\n",
        "maxDepth = [5, 10, 15, 20]\n",
        "samplesSplit = [2, 5, 10, 15]\n",
        "treeParameters = (0, 0)\n",
        "treeAuc = 0.0\n",
        "\n",
        "# Iterate for each maxDepth value.\n",
        "for d in maxDepth:\n",
        "\n",
        "    # Iterate for each minimum samples split value.\n",
        "    for sample in samplesSplit:\n",
        "\n",
        "        # Initialize the Decision Tree model.\n",
        "        model = DecisionTreeClassifier(max_depth=d, min_samples_split=sample)\n",
        "        trainSum, testSum = 0.0, 0.0\n",
        "\n",
        "        # Split the data, using 5-fold cross-validation, like I previously did for KNN.\n",
        "        kf = KFold(n_splits=5, shuffle=True)\n",
        "        for train_index, test_index in kf.split(xFeat):\n",
        "            # Initialize train/test data and train the model.\n",
        "            xTrain, xTest = xFeat[train_index], xFeat[test_index]\n",
        "            yTrain, yTest = y[train_index], y[test_index]\n",
        "            model.fit(xTrain, yTrain)\n",
        "\n",
        "            # Sum AUC for train/test data\n",
        "            trainSum += roc_auc_score(yTrain, model.predict_proba(xTrain)[:, -1])\n",
        "            testSum += roc_auc_score(yTest, model.predict_proba(xTest)[:, -1])\n",
        "\n",
        "        # Average the AUC for train/test across the 5 folds.\n",
        "        trainAuc = trainSum / 5\n",
        "        testAuc = testSum / 5\n",
        "\n",
        "        # Update the best parameters when test AUC is better than the current.\n",
        "        if testAuc > treeAuc:\n",
        "            treeAuc = testAuc\n",
        "            treeParameters = (d, sample)"
      ],
      "metadata": {
        "id": "VA_wz60vMVoz"
      },
      "execution_count": null,
      "outputs": []
    },
    {
      "cell_type": "markdown",
      "source": [
        "Display the optimal parameters"
      ],
      "metadata": {
        "id": "y625BK_mMYlh"
      }
    },
    {
      "cell_type": "code",
      "source": [
        "display(pd.DataFrame({\n",
        "    'Decision Tree': [treeParameters, treeAuc],\n",
        "    'KNN': [knnParameters, knnAuc]\n",
        "}, index=['Optimal Parameters', 'Optimal AUC']))"
      ],
      "metadata": {
        "colab": {
          "base_uri": "https://localhost:8080/",
          "height": 112
        },
        "id": "Wy9evIdwMZzV",
        "outputId": "62a1702b-9697-4927-9d29-f4a5f625f63d"
      },
      "execution_count": null,
      "outputs": [
        {
          "output_type": "display_data",
          "data": {
            "text/plain": [
              "                   Decision Tree        KNN\n",
              "Optimal Parameters      (10, 15)  15.000000\n",
              "Optimal AUC             0.796502   0.710276"
            ],
            "text/html": [
              "\n",
              "  <div id=\"df-9d3f9278-c050-4815-84d4-180c1b046832\" class=\"colab-df-container\">\n",
              "    <div>\n",
              "<style scoped>\n",
              "    .dataframe tbody tr th:only-of-type {\n",
              "        vertical-align: middle;\n",
              "    }\n",
              "\n",
              "    .dataframe tbody tr th {\n",
              "        vertical-align: top;\n",
              "    }\n",
              "\n",
              "    .dataframe thead th {\n",
              "        text-align: right;\n",
              "    }\n",
              "</style>\n",
              "<table border=\"1\" class=\"dataframe\">\n",
              "  <thead>\n",
              "    <tr style=\"text-align: right;\">\n",
              "      <th></th>\n",
              "      <th>Decision Tree</th>\n",
              "      <th>KNN</th>\n",
              "    </tr>\n",
              "  </thead>\n",
              "  <tbody>\n",
              "    <tr>\n",
              "      <th>Optimal Parameters</th>\n",
              "      <td>(10, 15)</td>\n",
              "      <td>15.000000</td>\n",
              "    </tr>\n",
              "    <tr>\n",
              "      <th>Optimal AUC</th>\n",
              "      <td>0.796502</td>\n",
              "      <td>0.710276</td>\n",
              "    </tr>\n",
              "  </tbody>\n",
              "</table>\n",
              "</div>\n",
              "    <div class=\"colab-df-buttons\">\n",
              "\n",
              "  <div class=\"colab-df-container\">\n",
              "    <button class=\"colab-df-convert\" onclick=\"convertToInteractive('df-9d3f9278-c050-4815-84d4-180c1b046832')\"\n",
              "            title=\"Convert this dataframe to an interactive table.\"\n",
              "            style=\"display:none;\">\n",
              "\n",
              "  <svg xmlns=\"http://www.w3.org/2000/svg\" height=\"24px\" viewBox=\"0 -960 960 960\">\n",
              "    <path d=\"M120-120v-720h720v720H120Zm60-500h600v-160H180v160Zm220 220h160v-160H400v160Zm0 220h160v-160H400v160ZM180-400h160v-160H180v160Zm440 0h160v-160H620v160ZM180-180h160v-160H180v160Zm440 0h160v-160H620v160Z\"/>\n",
              "  </svg>\n",
              "    </button>\n",
              "\n",
              "  <style>\n",
              "    .colab-df-container {\n",
              "      display:flex;\n",
              "      gap: 12px;\n",
              "    }\n",
              "\n",
              "    .colab-df-convert {\n",
              "      background-color: #E8F0FE;\n",
              "      border: none;\n",
              "      border-radius: 50%;\n",
              "      cursor: pointer;\n",
              "      display: none;\n",
              "      fill: #1967D2;\n",
              "      height: 32px;\n",
              "      padding: 0 0 0 0;\n",
              "      width: 32px;\n",
              "    }\n",
              "\n",
              "    .colab-df-convert:hover {\n",
              "      background-color: #E2EBFA;\n",
              "      box-shadow: 0px 1px 2px rgba(60, 64, 67, 0.3), 0px 1px 3px 1px rgba(60, 64, 67, 0.15);\n",
              "      fill: #174EA6;\n",
              "    }\n",
              "\n",
              "    .colab-df-buttons div {\n",
              "      margin-bottom: 4px;\n",
              "    }\n",
              "\n",
              "    [theme=dark] .colab-df-convert {\n",
              "      background-color: #3B4455;\n",
              "      fill: #D2E3FC;\n",
              "    }\n",
              "\n",
              "    [theme=dark] .colab-df-convert:hover {\n",
              "      background-color: #434B5C;\n",
              "      box-shadow: 0px 1px 3px 1px rgba(0, 0, 0, 0.15);\n",
              "      filter: drop-shadow(0px 1px 2px rgba(0, 0, 0, 0.3));\n",
              "      fill: #FFFFFF;\n",
              "    }\n",
              "  </style>\n",
              "\n",
              "    <script>\n",
              "      const buttonEl =\n",
              "        document.querySelector('#df-9d3f9278-c050-4815-84d4-180c1b046832 button.colab-df-convert');\n",
              "      buttonEl.style.display =\n",
              "        google.colab.kernel.accessAllowed ? 'block' : 'none';\n",
              "\n",
              "      async function convertToInteractive(key) {\n",
              "        const element = document.querySelector('#df-9d3f9278-c050-4815-84d4-180c1b046832');\n",
              "        const dataTable =\n",
              "          await google.colab.kernel.invokeFunction('convertToInteractive',\n",
              "                                                    [key], {});\n",
              "        if (!dataTable) return;\n",
              "\n",
              "        const docLinkHtml = 'Like what you see? Visit the ' +\n",
              "          '<a target=\"_blank\" href=https://colab.research.google.com/notebooks/data_table.ipynb>data table notebook</a>'\n",
              "          + ' to learn more about interactive tables.';\n",
              "        element.innerHTML = '';\n",
              "        dataTable['output_type'] = 'display_data';\n",
              "        await google.colab.output.renderOutput(dataTable, element);\n",
              "        const docLink = document.createElement('div');\n",
              "        docLink.innerHTML = docLinkHtml;\n",
              "        element.appendChild(docLink);\n",
              "      }\n",
              "    </script>\n",
              "  </div>\n",
              "\n",
              "\n",
              "<div id=\"df-25417cb2-67aa-4359-b130-e35f25324f21\">\n",
              "  <button class=\"colab-df-quickchart\" onclick=\"quickchart('df-25417cb2-67aa-4359-b130-e35f25324f21')\"\n",
              "            title=\"Suggest charts\"\n",
              "            style=\"display:none;\">\n",
              "\n",
              "<svg xmlns=\"http://www.w3.org/2000/svg\" height=\"24px\"viewBox=\"0 0 24 24\"\n",
              "     width=\"24px\">\n",
              "    <g>\n",
              "        <path d=\"M19 3H5c-1.1 0-2 .9-2 2v14c0 1.1.9 2 2 2h14c1.1 0 2-.9 2-2V5c0-1.1-.9-2-2-2zM9 17H7v-7h2v7zm4 0h-2V7h2v10zm4 0h-2v-4h2v4z\"/>\n",
              "    </g>\n",
              "</svg>\n",
              "  </button>\n",
              "\n",
              "<style>\n",
              "  .colab-df-quickchart {\n",
              "      --bg-color: #E8F0FE;\n",
              "      --fill-color: #1967D2;\n",
              "      --hover-bg-color: #E2EBFA;\n",
              "      --hover-fill-color: #174EA6;\n",
              "      --disabled-fill-color: #AAA;\n",
              "      --disabled-bg-color: #DDD;\n",
              "  }\n",
              "\n",
              "  [theme=dark] .colab-df-quickchart {\n",
              "      --bg-color: #3B4455;\n",
              "      --fill-color: #D2E3FC;\n",
              "      --hover-bg-color: #434B5C;\n",
              "      --hover-fill-color: #FFFFFF;\n",
              "      --disabled-bg-color: #3B4455;\n",
              "      --disabled-fill-color: #666;\n",
              "  }\n",
              "\n",
              "  .colab-df-quickchart {\n",
              "    background-color: var(--bg-color);\n",
              "    border: none;\n",
              "    border-radius: 50%;\n",
              "    cursor: pointer;\n",
              "    display: none;\n",
              "    fill: var(--fill-color);\n",
              "    height: 32px;\n",
              "    padding: 0;\n",
              "    width: 32px;\n",
              "  }\n",
              "\n",
              "  .colab-df-quickchart:hover {\n",
              "    background-color: var(--hover-bg-color);\n",
              "    box-shadow: 0 1px 2px rgba(60, 64, 67, 0.3), 0 1px 3px 1px rgba(60, 64, 67, 0.15);\n",
              "    fill: var(--button-hover-fill-color);\n",
              "  }\n",
              "\n",
              "  .colab-df-quickchart-complete:disabled,\n",
              "  .colab-df-quickchart-complete:disabled:hover {\n",
              "    background-color: var(--disabled-bg-color);\n",
              "    fill: var(--disabled-fill-color);\n",
              "    box-shadow: none;\n",
              "  }\n",
              "\n",
              "  .colab-df-spinner {\n",
              "    border: 2px solid var(--fill-color);\n",
              "    border-color: transparent;\n",
              "    border-bottom-color: var(--fill-color);\n",
              "    animation:\n",
              "      spin 1s steps(1) infinite;\n",
              "  }\n",
              "\n",
              "  @keyframes spin {\n",
              "    0% {\n",
              "      border-color: transparent;\n",
              "      border-bottom-color: var(--fill-color);\n",
              "      border-left-color: var(--fill-color);\n",
              "    }\n",
              "    20% {\n",
              "      border-color: transparent;\n",
              "      border-left-color: var(--fill-color);\n",
              "      border-top-color: var(--fill-color);\n",
              "    }\n",
              "    30% {\n",
              "      border-color: transparent;\n",
              "      border-left-color: var(--fill-color);\n",
              "      border-top-color: var(--fill-color);\n",
              "      border-right-color: var(--fill-color);\n",
              "    }\n",
              "    40% {\n",
              "      border-color: transparent;\n",
              "      border-right-color: var(--fill-color);\n",
              "      border-top-color: var(--fill-color);\n",
              "    }\n",
              "    60% {\n",
              "      border-color: transparent;\n",
              "      border-right-color: var(--fill-color);\n",
              "    }\n",
              "    80% {\n",
              "      border-color: transparent;\n",
              "      border-right-color: var(--fill-color);\n",
              "      border-bottom-color: var(--fill-color);\n",
              "    }\n",
              "    90% {\n",
              "      border-color: transparent;\n",
              "      border-bottom-color: var(--fill-color);\n",
              "    }\n",
              "  }\n",
              "</style>\n",
              "\n",
              "  <script>\n",
              "    async function quickchart(key) {\n",
              "      const quickchartButtonEl =\n",
              "        document.querySelector('#' + key + ' button');\n",
              "      quickchartButtonEl.disabled = true;  // To prevent multiple clicks.\n",
              "      quickchartButtonEl.classList.add('colab-df-spinner');\n",
              "      try {\n",
              "        const charts = await google.colab.kernel.invokeFunction(\n",
              "            'suggestCharts', [key], {});\n",
              "      } catch (error) {\n",
              "        console.error('Error during call to suggestCharts:', error);\n",
              "      }\n",
              "      quickchartButtonEl.classList.remove('colab-df-spinner');\n",
              "      quickchartButtonEl.classList.add('colab-df-quickchart-complete');\n",
              "    }\n",
              "    (() => {\n",
              "      let quickchartButtonEl =\n",
              "        document.querySelector('#df-25417cb2-67aa-4359-b130-e35f25324f21 button');\n",
              "      quickchartButtonEl.style.display =\n",
              "        google.colab.kernel.accessAllowed ? 'block' : 'none';\n",
              "    })();\n",
              "  </script>\n",
              "</div>\n",
              "\n",
              "    </div>\n",
              "  </div>\n"
            ],
            "application/vnd.google.colaboratory.intrinsic+json": {
              "type": "dataframe",
              "summary": "{\n  \"name\": \"}, index=['Optimal Parameters', 'Optimal AUC']))\",\n  \"rows\": 2,\n  \"fields\": [\n    {\n      \"column\": \"Decision Tree\",\n      \"properties\": {\n        \"dtype\": \"string\",\n        \"num_unique_values\": 2,\n        \"samples\": [\n          0.7965020373924736,\n          [\n            10,\n            15\n          ]\n        ],\n        \"semantic_type\": \"\",\n        \"description\": \"\"\n      }\n    },\n    {\n      \"column\": \"KNN\",\n      \"properties\": {\n        \"dtype\": \"number\",\n        \"std\": 10.104360455657545,\n        \"min\": 0.7102764045027139,\n        \"max\": 15.0,\n        \"num_unique_values\": 2,\n        \"samples\": [\n          0.7102764045027139,\n          15.0\n        ],\n        \"semantic_type\": \"\",\n        \"description\": \"\"\n      }\n    }\n  ]\n}"
            }
          },
          "metadata": {}
        }
      ]
    },
    {
      "cell_type": "markdown",
      "source": [
        "In the table above, the optimal parameters are formatted in a tuple, where the first value (10) is the maximum depth, and the second value (15) represents the minimum samples split. The parameter for KNN, 15, represents the number of neighbors."
      ],
      "metadata": {
        "id": "24fhOTTVMblk"
      }
    },
    {
      "cell_type": "markdown",
      "source": [
        "Setting up for parts (b) and (c)"
      ],
      "metadata": {
        "id": "xkyVgO1gMqp1"
      }
    },
    {
      "cell_type": "code",
      "source": [
        "# Initializing array to store all resulting values.\n",
        "results = []\n",
        "\n",
        "# Percentages (1%, 5%, 10% to be removed from training data).\n",
        "percentages = [0.01, 0.05, 0.10]"
      ],
      "metadata": {
        "id": "WMfPLgOiMtET"
      },
      "execution_count": null,
      "outputs": []
    },
    {
      "cell_type": "markdown",
      "source": [
        "### (b) KNN: Using hyperparameters found in (a), create 3 subsets removing 1%, 5%, and 10% of the training data and train the models."
      ],
      "metadata": {
        "id": "V02m7aOpMuyj"
      }
    },
    {
      "cell_type": "code",
      "source": [
        "# Train KNN model on entire dataset with optimal parameters, record the AUC and Accuracy.\n",
        "knnModel = KNeighborsClassifier(n_neighbors=knnParameters)\n",
        "knnModel.fit(xFeat, y)\n",
        "testAuc_knn = roc_auc_score(y, knnModel.predict_proba(xFeat)[:, -1])\n",
        "testAccuracy_knn = knnModel.score(xFeat, y)\n",
        "results.append(['KNN Entire', testAuc_knn, testAccuracy_knn])\n",
        "\n",
        "# Train KNN on the 3 subsets.\n",
        "for percent in percentages:\n",
        "    # Initialize model using the optimal parameters.\n",
        "    knnModel = KNeighborsClassifier(n_neighbors=knnParameters)\n",
        "\n",
        "    # Randomly remove a percentage of data, then split into training and test.\n",
        "    xTrain_reduced, _, yTrain_reduced, _ = train_test_split(xFeat, y, test_size=percent)\n",
        "    xTrain, xTest, yTrain, yTest = train_test_split(xTrain_reduced, yTrain_reduced, test_size=0.3)\n",
        "\n",
        "    # Train the model.\n",
        "    knnModel.fit(xTrain, yTrain)\n",
        "\n",
        "    # Evaluate AUC and Accuracy, store them.\n",
        "    testAuc = roc_auc_score(yTest, knnModel.predict_proba(xTest)[:, -1])\n",
        "    testAccuracy = knnModel.score(xTest, yTest)\n",
        "    results.append([f'KNN ({percent*100}%)', testAuc, testAccuracy])"
      ],
      "metadata": {
        "id": "D-lmkHJOMwCq"
      },
      "execution_count": null,
      "outputs": []
    },
    {
      "cell_type": "markdown",
      "source": [
        "### (c) Decision Tree: Using hyperparameters found in (a), create 3 subsets removing 1%, 5%, and 10% of the training data and train the models."
      ],
      "metadata": {
        "id": "lvKX7ZemMyNh"
      }
    },
    {
      "cell_type": "code",
      "source": [
        "# Train Decision Tree model on entire dataset with optimal parameters, record the AUC and Accuracy.\n",
        "dtModel = DecisionTreeClassifier(max_depth=treeParameters[0], min_samples_split=treeParameters[1])\n",
        "dtModel.fit(xFeat, y)\n",
        "testAuc_tree = roc_auc_score(y, dtModel.predict_proba(xFeat)[:, -1])\n",
        "testAccuracy_tree = dtModel.score(xFeat, y)\n",
        "results.append(['Decision Tree Entire', testAuc_tree, testAccuracy_tree])\n",
        "\n",
        "# Train KNN on the 3 subsets.\n",
        "for percent in percentages:\n",
        "    # Initialize the model using the optimal parameters.\n",
        "    dtModel = DecisionTreeClassifier(max_depth=treeParameters[0], min_samples_split=treeParameters[1])\n",
        "\n",
        "    # Randomly remove a percentage of data, then split into training and test.\n",
        "    xTrain_reduced, _, yTrain_reduced, _ = train_test_split(xFeat, y, test_size=percent)\n",
        "    xTrain, xTest, yTrain, yTest = train_test_split(xTrain_reduced, yTrain_reduced, test_size=0.3)\n",
        "\n",
        "    # Train the model.\n",
        "    dtModel.fit(xTrain, yTrain)\n",
        "\n",
        "    # Evaluate AUC and Accuracy, store them.\n",
        "    testAuc = roc_auc_score(yTest, dtModel.predict_proba(xTest)[:, -1])\n",
        "    testAccuracy = dtModel.score(xTest, yTest)\n",
        "    results.append([f'Decision Tree ({percent*100}%)', testAuc, testAccuracy])"
      ],
      "metadata": {
        "id": "vvAnpkS1M0t3"
      },
      "execution_count": null,
      "outputs": []
    },
    {
      "cell_type": "markdown",
      "source": [
        "### (d) Report AUC and Accuracy from the 8 models created from (b) and (c)."
      ],
      "metadata": {
        "id": "ELW_el_wM254"
      }
    },
    {
      "cell_type": "code",
      "source": [
        "display(pd.DataFrame(results, columns=['Model', 'Test AUC', 'Test Accuracy']))"
      ],
      "metadata": {
        "colab": {
          "base_uri": "https://localhost:8080/",
          "height": 300
        },
        "id": "E8AYY6-fM4Bu",
        "outputId": "da0fc968-3120-46fd-ba36-eeb29e36db93"
      },
      "execution_count": null,
      "outputs": [
        {
          "output_type": "display_data",
          "data": {
            "text/plain": [
              "                   Model  Test AUC  Test Accuracy\n",
              "0             KNN Entire  0.791578       0.722026\n",
              "1             KNN (1.0%)  0.681082       0.651813\n",
              "2             KNN (5.0%)  0.690568       0.663067\n",
              "3            KNN (10.0%)  0.713675       0.681481\n",
              "4   Decision Tree Entire  0.929302       0.858088\n",
              "5   Decision Tree (1.0%)  0.769275       0.725907\n",
              "6   Decision Tree (5.0%)  0.753405       0.729482\n",
              "7  Decision Tree (10.0%)  0.776242       0.743590"
            ],
            "text/html": [
              "\n",
              "  <div id=\"df-80ecef4a-1f92-408d-84bf-79e8ebc1d568\" class=\"colab-df-container\">\n",
              "    <div>\n",
              "<style scoped>\n",
              "    .dataframe tbody tr th:only-of-type {\n",
              "        vertical-align: middle;\n",
              "    }\n",
              "\n",
              "    .dataframe tbody tr th {\n",
              "        vertical-align: top;\n",
              "    }\n",
              "\n",
              "    .dataframe thead th {\n",
              "        text-align: right;\n",
              "    }\n",
              "</style>\n",
              "<table border=\"1\" class=\"dataframe\">\n",
              "  <thead>\n",
              "    <tr style=\"text-align: right;\">\n",
              "      <th></th>\n",
              "      <th>Model</th>\n",
              "      <th>Test AUC</th>\n",
              "      <th>Test Accuracy</th>\n",
              "    </tr>\n",
              "  </thead>\n",
              "  <tbody>\n",
              "    <tr>\n",
              "      <th>0</th>\n",
              "      <td>KNN Entire</td>\n",
              "      <td>0.791578</td>\n",
              "      <td>0.722026</td>\n",
              "    </tr>\n",
              "    <tr>\n",
              "      <th>1</th>\n",
              "      <td>KNN (1.0%)</td>\n",
              "      <td>0.681082</td>\n",
              "      <td>0.651813</td>\n",
              "    </tr>\n",
              "    <tr>\n",
              "      <th>2</th>\n",
              "      <td>KNN (5.0%)</td>\n",
              "      <td>0.690568</td>\n",
              "      <td>0.663067</td>\n",
              "    </tr>\n",
              "    <tr>\n",
              "      <th>3</th>\n",
              "      <td>KNN (10.0%)</td>\n",
              "      <td>0.713675</td>\n",
              "      <td>0.681481</td>\n",
              "    </tr>\n",
              "    <tr>\n",
              "      <th>4</th>\n",
              "      <td>Decision Tree Entire</td>\n",
              "      <td>0.929302</td>\n",
              "      <td>0.858088</td>\n",
              "    </tr>\n",
              "    <tr>\n",
              "      <th>5</th>\n",
              "      <td>Decision Tree (1.0%)</td>\n",
              "      <td>0.769275</td>\n",
              "      <td>0.725907</td>\n",
              "    </tr>\n",
              "    <tr>\n",
              "      <th>6</th>\n",
              "      <td>Decision Tree (5.0%)</td>\n",
              "      <td>0.753405</td>\n",
              "      <td>0.729482</td>\n",
              "    </tr>\n",
              "    <tr>\n",
              "      <th>7</th>\n",
              "      <td>Decision Tree (10.0%)</td>\n",
              "      <td>0.776242</td>\n",
              "      <td>0.743590</td>\n",
              "    </tr>\n",
              "  </tbody>\n",
              "</table>\n",
              "</div>\n",
              "    <div class=\"colab-df-buttons\">\n",
              "\n",
              "  <div class=\"colab-df-container\">\n",
              "    <button class=\"colab-df-convert\" onclick=\"convertToInteractive('df-80ecef4a-1f92-408d-84bf-79e8ebc1d568')\"\n",
              "            title=\"Convert this dataframe to an interactive table.\"\n",
              "            style=\"display:none;\">\n",
              "\n",
              "  <svg xmlns=\"http://www.w3.org/2000/svg\" height=\"24px\" viewBox=\"0 -960 960 960\">\n",
              "    <path d=\"M120-120v-720h720v720H120Zm60-500h600v-160H180v160Zm220 220h160v-160H400v160Zm0 220h160v-160H400v160ZM180-400h160v-160H180v160Zm440 0h160v-160H620v160ZM180-180h160v-160H180v160Zm440 0h160v-160H620v160Z\"/>\n",
              "  </svg>\n",
              "    </button>\n",
              "\n",
              "  <style>\n",
              "    .colab-df-container {\n",
              "      display:flex;\n",
              "      gap: 12px;\n",
              "    }\n",
              "\n",
              "    .colab-df-convert {\n",
              "      background-color: #E8F0FE;\n",
              "      border: none;\n",
              "      border-radius: 50%;\n",
              "      cursor: pointer;\n",
              "      display: none;\n",
              "      fill: #1967D2;\n",
              "      height: 32px;\n",
              "      padding: 0 0 0 0;\n",
              "      width: 32px;\n",
              "    }\n",
              "\n",
              "    .colab-df-convert:hover {\n",
              "      background-color: #E2EBFA;\n",
              "      box-shadow: 0px 1px 2px rgba(60, 64, 67, 0.3), 0px 1px 3px 1px rgba(60, 64, 67, 0.15);\n",
              "      fill: #174EA6;\n",
              "    }\n",
              "\n",
              "    .colab-df-buttons div {\n",
              "      margin-bottom: 4px;\n",
              "    }\n",
              "\n",
              "    [theme=dark] .colab-df-convert {\n",
              "      background-color: #3B4455;\n",
              "      fill: #D2E3FC;\n",
              "    }\n",
              "\n",
              "    [theme=dark] .colab-df-convert:hover {\n",
              "      background-color: #434B5C;\n",
              "      box-shadow: 0px 1px 3px 1px rgba(0, 0, 0, 0.15);\n",
              "      filter: drop-shadow(0px 1px 2px rgba(0, 0, 0, 0.3));\n",
              "      fill: #FFFFFF;\n",
              "    }\n",
              "  </style>\n",
              "\n",
              "    <script>\n",
              "      const buttonEl =\n",
              "        document.querySelector('#df-80ecef4a-1f92-408d-84bf-79e8ebc1d568 button.colab-df-convert');\n",
              "      buttonEl.style.display =\n",
              "        google.colab.kernel.accessAllowed ? 'block' : 'none';\n",
              "\n",
              "      async function convertToInteractive(key) {\n",
              "        const element = document.querySelector('#df-80ecef4a-1f92-408d-84bf-79e8ebc1d568');\n",
              "        const dataTable =\n",
              "          await google.colab.kernel.invokeFunction('convertToInteractive',\n",
              "                                                    [key], {});\n",
              "        if (!dataTable) return;\n",
              "\n",
              "        const docLinkHtml = 'Like what you see? Visit the ' +\n",
              "          '<a target=\"_blank\" href=https://colab.research.google.com/notebooks/data_table.ipynb>data table notebook</a>'\n",
              "          + ' to learn more about interactive tables.';\n",
              "        element.innerHTML = '';\n",
              "        dataTable['output_type'] = 'display_data';\n",
              "        await google.colab.output.renderOutput(dataTable, element);\n",
              "        const docLink = document.createElement('div');\n",
              "        docLink.innerHTML = docLinkHtml;\n",
              "        element.appendChild(docLink);\n",
              "      }\n",
              "    </script>\n",
              "  </div>\n",
              "\n",
              "\n",
              "<div id=\"df-379147ec-9b6d-4f85-b118-725fc0ea67ae\">\n",
              "  <button class=\"colab-df-quickchart\" onclick=\"quickchart('df-379147ec-9b6d-4f85-b118-725fc0ea67ae')\"\n",
              "            title=\"Suggest charts\"\n",
              "            style=\"display:none;\">\n",
              "\n",
              "<svg xmlns=\"http://www.w3.org/2000/svg\" height=\"24px\"viewBox=\"0 0 24 24\"\n",
              "     width=\"24px\">\n",
              "    <g>\n",
              "        <path d=\"M19 3H5c-1.1 0-2 .9-2 2v14c0 1.1.9 2 2 2h14c1.1 0 2-.9 2-2V5c0-1.1-.9-2-2-2zM9 17H7v-7h2v7zm4 0h-2V7h2v10zm4 0h-2v-4h2v4z\"/>\n",
              "    </g>\n",
              "</svg>\n",
              "  </button>\n",
              "\n",
              "<style>\n",
              "  .colab-df-quickchart {\n",
              "      --bg-color: #E8F0FE;\n",
              "      --fill-color: #1967D2;\n",
              "      --hover-bg-color: #E2EBFA;\n",
              "      --hover-fill-color: #174EA6;\n",
              "      --disabled-fill-color: #AAA;\n",
              "      --disabled-bg-color: #DDD;\n",
              "  }\n",
              "\n",
              "  [theme=dark] .colab-df-quickchart {\n",
              "      --bg-color: #3B4455;\n",
              "      --fill-color: #D2E3FC;\n",
              "      --hover-bg-color: #434B5C;\n",
              "      --hover-fill-color: #FFFFFF;\n",
              "      --disabled-bg-color: #3B4455;\n",
              "      --disabled-fill-color: #666;\n",
              "  }\n",
              "\n",
              "  .colab-df-quickchart {\n",
              "    background-color: var(--bg-color);\n",
              "    border: none;\n",
              "    border-radius: 50%;\n",
              "    cursor: pointer;\n",
              "    display: none;\n",
              "    fill: var(--fill-color);\n",
              "    height: 32px;\n",
              "    padding: 0;\n",
              "    width: 32px;\n",
              "  }\n",
              "\n",
              "  .colab-df-quickchart:hover {\n",
              "    background-color: var(--hover-bg-color);\n",
              "    box-shadow: 0 1px 2px rgba(60, 64, 67, 0.3), 0 1px 3px 1px rgba(60, 64, 67, 0.15);\n",
              "    fill: var(--button-hover-fill-color);\n",
              "  }\n",
              "\n",
              "  .colab-df-quickchart-complete:disabled,\n",
              "  .colab-df-quickchart-complete:disabled:hover {\n",
              "    background-color: var(--disabled-bg-color);\n",
              "    fill: var(--disabled-fill-color);\n",
              "    box-shadow: none;\n",
              "  }\n",
              "\n",
              "  .colab-df-spinner {\n",
              "    border: 2px solid var(--fill-color);\n",
              "    border-color: transparent;\n",
              "    border-bottom-color: var(--fill-color);\n",
              "    animation:\n",
              "      spin 1s steps(1) infinite;\n",
              "  }\n",
              "\n",
              "  @keyframes spin {\n",
              "    0% {\n",
              "      border-color: transparent;\n",
              "      border-bottom-color: var(--fill-color);\n",
              "      border-left-color: var(--fill-color);\n",
              "    }\n",
              "    20% {\n",
              "      border-color: transparent;\n",
              "      border-left-color: var(--fill-color);\n",
              "      border-top-color: var(--fill-color);\n",
              "    }\n",
              "    30% {\n",
              "      border-color: transparent;\n",
              "      border-left-color: var(--fill-color);\n",
              "      border-top-color: var(--fill-color);\n",
              "      border-right-color: var(--fill-color);\n",
              "    }\n",
              "    40% {\n",
              "      border-color: transparent;\n",
              "      border-right-color: var(--fill-color);\n",
              "      border-top-color: var(--fill-color);\n",
              "    }\n",
              "    60% {\n",
              "      border-color: transparent;\n",
              "      border-right-color: var(--fill-color);\n",
              "    }\n",
              "    80% {\n",
              "      border-color: transparent;\n",
              "      border-right-color: var(--fill-color);\n",
              "      border-bottom-color: var(--fill-color);\n",
              "    }\n",
              "    90% {\n",
              "      border-color: transparent;\n",
              "      border-bottom-color: var(--fill-color);\n",
              "    }\n",
              "  }\n",
              "</style>\n",
              "\n",
              "  <script>\n",
              "    async function quickchart(key) {\n",
              "      const quickchartButtonEl =\n",
              "        document.querySelector('#' + key + ' button');\n",
              "      quickchartButtonEl.disabled = true;  // To prevent multiple clicks.\n",
              "      quickchartButtonEl.classList.add('colab-df-spinner');\n",
              "      try {\n",
              "        const charts = await google.colab.kernel.invokeFunction(\n",
              "            'suggestCharts', [key], {});\n",
              "      } catch (error) {\n",
              "        console.error('Error during call to suggestCharts:', error);\n",
              "      }\n",
              "      quickchartButtonEl.classList.remove('colab-df-spinner');\n",
              "      quickchartButtonEl.classList.add('colab-df-quickchart-complete');\n",
              "    }\n",
              "    (() => {\n",
              "      let quickchartButtonEl =\n",
              "        document.querySelector('#df-379147ec-9b6d-4f85-b118-725fc0ea67ae button');\n",
              "      quickchartButtonEl.style.display =\n",
              "        google.colab.kernel.accessAllowed ? 'block' : 'none';\n",
              "    })();\n",
              "  </script>\n",
              "</div>\n",
              "\n",
              "    </div>\n",
              "  </div>\n"
            ],
            "application/vnd.google.colaboratory.intrinsic+json": {
              "type": "dataframe",
              "summary": "{\n  \"name\": \"display(pd\",\n  \"rows\": 8,\n  \"fields\": [\n    {\n      \"column\": \"Model\",\n      \"properties\": {\n        \"dtype\": \"string\",\n        \"num_unique_values\": 8,\n        \"samples\": [\n          \"KNN (1.0%)\",\n          \"Decision Tree (1.0%)\",\n          \"KNN Entire\"\n        ],\n        \"semantic_type\": \"\",\n        \"description\": \"\"\n      }\n    },\n    {\n      \"column\": \"Test AUC\",\n      \"properties\": {\n        \"dtype\": \"number\",\n        \"std\": 0.07853098652365763,\n        \"min\": 0.6810817363195567,\n        \"max\": 0.9293024694984147,\n        \"num_unique_values\": 8,\n        \"samples\": [\n          0.6810817363195567,\n          0.769275492929179,\n          0.7915784498977705\n        ],\n        \"semantic_type\": \"\",\n        \"description\": \"\"\n      }\n    },\n    {\n      \"column\": \"Test Accuracy\",\n      \"properties\": {\n        \"dtype\": \"number\",\n        \"std\": 0.06447409169499135,\n        \"min\": 0.6518134715025907,\n        \"max\": 0.8580883484685239,\n        \"num_unique_values\": 8,\n        \"samples\": [\n          0.6518134715025907,\n          0.7259067357512954,\n          0.7220255502539634\n        ],\n        \"semantic_type\": \"\",\n        \"description\": \"\"\n      }\n    }\n  ]\n}"
            }
          },
          "metadata": {}
        }
      ]
    },
    {
      "cell_type": "markdown",
      "source": [
        "When comparing KNN and Decision Tree models, it is clear that Decision Tree is much more sensitive to reductions in data. The KNN algorithm achieved an AUC of 92.9%, but the AUC decreased to 76.9% when 1% of the training data was removed. This decline was much sharper than when 5% or 10% of the data was removed. The accuracy also decreased, from 85.8% to 72.6%."
      ],
      "metadata": {
        "id": "7DnpoTCmM6dO"
      }
    },
    {
      "cell_type": "markdown",
      "source": [
        "In contrast, the KNN model was slightly more robust, noticing a 11% decrease in AUC from removing 1% versus the 16% decrease that Decision Tree saw. And the accuracies for all variations of the KNN model were weaker than that of Decision Tree."
      ],
      "metadata": {
        "id": "M57Pg1onN0-V"
      }
    },
    {
      "cell_type": "markdown",
      "source": [
        "From both model's it's clear that both will have noticable decreases in performance from removing only 1% of the data, but as we decrease a higher percentage of data (5% or 10%, the performance only sees slight changes and evens out. Despite Decision Tree being more sensitive initially, it still had a better accuracy overall."
      ],
      "metadata": {
        "id": "V8cXYSIPObYM"
      }
    }
  ]
}